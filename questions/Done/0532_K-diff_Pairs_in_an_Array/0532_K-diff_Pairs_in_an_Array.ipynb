{
 "cells": [
  {
   "cell_type": "markdown",
   "metadata": {},
   "source": [
    "Given an array of integers and an integer k, you need to find the number of unique k-diff pairs in the array. Here a k-diff pair is defined as an integer pair (i, j), where i and j are both numbers in the array and their absolute difference is k.\n",
    "\n",
    "Example 1:\n",
    "Input: [3, 1, 4, 1, 5], k = 2\n",
    "Output: 2\n",
    "Explanation: There are two 2-diff pairs in the array, (1, 3) and (3, 5).\n",
    "Although we have two 1s in the input, we should only return the number of unique pairs.\n",
    "\n",
    "Example 2:\n",
    "Input:[1, 2, 3, 4, 5], k = 1\n",
    "Output: 4\n",
    "Explanation: There are four 1-diff pairs in the array, (1, 2), (2, 3), (3, 4) and (4, 5).\n",
    "\n",
    "Example 3:\n",
    "Input: [1, 3, 1, 5, 4], k = 0\n",
    "Output: 1\n",
    "Explanation: There is one 0-diff pair in the array, (1, 1).\n",
    "\n",
    "Note:\n",
    "The pairs (i, j) and (j, i) count as the same pair.\n",
    "The length of the array won't exceed 10,000.\n",
    "All the integers in the given input belong to the range: [-1e7, 1e7]."
   ]
  },
  {
   "cell_type": "code",
   "execution_count": null,
   "metadata": {},
   "outputs": [],
   "source": [
    "# class Solution:\n",
    "#     def findPairs(self, nums: List[int], k: int) -> int:\n",
    "        "
   ]
  },
  {
   "cell_type": "code",
   "execution_count": 23,
   "metadata": {},
   "outputs": [],
   "source": [
    "class Solution:\n",
    "    def findPairs(self, nums, k):\n",
    "        nums.sort()\n",
    "        n = len(nums)\n",
    "        out = {}\n",
    "        if k<0:\n",
    "            return len(out)\n",
    "        for i in range(n-1):\n",
    "            for j in range((i+1),n):\n",
    "                diff_ij = nums[j]-nums[i]\n",
    "                if diff_ij==k:\n",
    "                    if nums[i] not in out:\n",
    "                        out[nums[i]] = nums[j]\n",
    "                elif diff_ij>k:\n",
    "                    next\n",
    "                else:\n",
    "                    pass\n",
    "        return len(out)"
   ]
  },
  {
   "cell_type": "code",
   "execution_count": 31,
   "metadata": {},
   "outputs": [],
   "source": [
    "A = [23011,36297,102,34822,6671,43423,21140,33749,4868,12339,33319,29883,50699,54874,43625,499,30072,9013,19773,45015,38173,2229,42569,17064,11879,41139,41988,24436,8970,31444,36712,31582,2038,19802,32311,9825,22950,30187,5272,20531,52139,43702,44524,15669,1764,3848,33235,41460,34259,36145,5079,14383,3907,53476,2247,29388,52574,13888,44400,32786,34578,51843,45006,8708,5487,9623,19043,54101,987,15262,22001,49459,10458,10667,36633,48476,2126,14195,18707,19345,35146,44121,923,39409,12994,49682,45468,11805,21616,53888,4214,45917,33805,1422,50054,25514,34089,15138,1135,28873,4164,40997,20230,50918,45143,16175,45042,30013,52014,51451,11160,31303,9269,49469,54179,47776,22769,20579,40847,9822,24396,24778,42908,39785,45965,42572,23914,12724,5921,31744,35837,18070,31542,497,6825,5751,43586,35275,6760,25790,32152,34824,54281,3989,21212,52487,31110,550,55255,24945,53711,31001,44653,34553,2298,35300,15165,3867,31229,4865,34385,24835,539,14499,34542,54428,31372,50515,44990,12164,25317,8218,5291,41547,13]\n",
    "k = 394"
   ]
  },
  {
   "cell_type": "code",
   "execution_count": 32,
   "metadata": {},
   "outputs": [
    {
     "data": {
      "text/plain": [
       "0"
      ]
     },
     "execution_count": 32,
     "metadata": {},
     "output_type": "execute_result"
    }
   ],
   "source": [
    "x = Solution()\n",
    "x.findPairs(A, k)"
   ]
  },
  {
   "cell_type": "code",
   "execution_count": null,
   "metadata": {},
   "outputs": [],
   "source": []
  }
 ],
 "metadata": {
  "kernelspec": {
   "display_name": "yc_test",
   "language": "python",
   "name": "yc_test"
  },
  "language_info": {
   "codemirror_mode": {
    "name": "ipython",
    "version": 3
   },
   "file_extension": ".py",
   "mimetype": "text/x-python",
   "name": "python",
   "nbconvert_exporter": "python",
   "pygments_lexer": "ipython3",
   "version": "3.6.6"
  }
 },
 "nbformat": 4,
 "nbformat_minor": 2
}
