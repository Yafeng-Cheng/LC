{
 "cells": [
  {
   "cell_type": "markdown",
   "metadata": {},
   "source": [
    "An array is monotonic if it is either monotone increasing or monotone decreasing.\n",
    "\n",
    "An array A is monotone increasing if for all i <= j, A[i] <= A[j].  An array A is monotone decreasing if for all i <= j, A[i] >= A[j].\n",
    "\n",
    "Return true if and only if the given array A is monotonic.\n",
    "\n",
    " \n",
    "\n",
    "Example 1:\n",
    "\n",
    "Input: [1,2,2,3]\n",
    "Output: true\n",
    "\n",
    "Example 2:\n",
    "\n",
    "Input: [6,5,4,4]\n",
    "Output: true\n",
    "\n",
    "Example 3:\n",
    "\n",
    "Input: [1,3,2]\n",
    "Output: false\n",
    "\n",
    "Example 4:\n",
    "\n",
    "Input: [1,2,4,5]\n",
    "Output: true\n",
    "\n",
    "Example 5:\n",
    "\n",
    "Input: [1,1,1]\n",
    "Output: true\n",
    " \n",
    "\n",
    "Note:\n",
    "\n",
    "1 <= A.length <= 50000\n",
    "-100000 <= A[i] <= 100000"
   ]
  },
  {
   "cell_type": "code",
   "execution_count": null,
   "metadata": {},
   "outputs": [],
   "source": [
    "# class Solution:\n",
    "#     def isMonotonic(self, A: List[int]) -> bool:\n",
    "        "
   ]
  },
  {
   "cell_type": "code",
   "execution_count": 24,
   "metadata": {},
   "outputs": [],
   "source": [
    "class Solution:\n",
    "    def isMonotonic(self, A):\n",
    "        n = len(A)\n",
    "        if n<3:\n",
    "            return True\n",
    "        direct = A[1]-A[0]\n",
    "        order1 = order2 =False\n",
    "        if direct >=0:\n",
    "            order1 = True\n",
    "            for i in range(1,n-1):\n",
    "                if A[i+1]-A[i]<0:\n",
    "                    order1 = False\n",
    "                    break\n",
    "        if direct <=0:\n",
    "            order2 = True\n",
    "            for i in range(1,n-1):\n",
    "                if A[i+1]-A[i]>0:\n",
    "                    order2 = False\n",
    "                    break\n",
    "        return order1|order2"
   ]
  },
  {
   "cell_type": "code",
   "execution_count": null,
   "metadata": {},
   "outputs": [],
   "source": [
    "class Solution:\n",
    "    def isMonotonic(self, A):\n",
    "        n = len(A)-1\n",
    "        order1 = all([A[i+1]>=A[i] for i in range(n)])\n",
    "        order2 = all([A[i+1]<=A[i] for i in range(n)])\n",
    "        return order1|order2"
   ]
  },
  {
   "cell_type": "code",
   "execution_count": 25,
   "metadata": {
    "scrolled": true
   },
   "outputs": [
    {
     "data": {
      "text/plain": [
       "True"
      ]
     },
     "execution_count": 25,
     "metadata": {},
     "output_type": "execute_result"
    }
   ],
   "source": [
    "x = Solution()\n",
    "x.isMonotonic([6,5,4,4])"
   ]
  },
  {
   "cell_type": "code",
   "execution_count": null,
   "metadata": {},
   "outputs": [],
   "source": []
  }
 ],
 "metadata": {
  "kernelspec": {
   "display_name": "yc_test",
   "language": "python",
   "name": "yc_test"
  },
  "language_info": {
   "codemirror_mode": {
    "name": "ipython",
    "version": 3
   },
   "file_extension": ".py",
   "mimetype": "text/x-python",
   "name": "python",
   "nbconvert_exporter": "python",
   "pygments_lexer": "ipython3",
   "version": "3.6.6"
  }
 },
 "nbformat": 4,
 "nbformat_minor": 2
}
