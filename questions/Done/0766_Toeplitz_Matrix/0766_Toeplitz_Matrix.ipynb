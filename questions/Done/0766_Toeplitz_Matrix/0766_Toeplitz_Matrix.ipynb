{
 "cells": [
  {
   "cell_type": "code",
   "execution_count": 1,
   "metadata": {},
   "outputs": [],
   "source": [
    "import numpy as np"
   ]
  },
  {
   "cell_type": "markdown",
   "metadata": {},
   "source": [
    "A matrix is Toeplitz if every diagonal from top-left to bottom-right has the same element.\n",
    "\n",
    "Now given an M x N matrix, return True if and only if the matrix is Toeplitz.\n",
    " \n",
    "\n",
    "Example 1:\n",
    "\n",
    "Input:\n",
    "matrix = [\n",
    "  [1,2,3,4],\n",
    "  [5,1,2,3],\n",
    "  [9,5,1,2]\n",
    "]\n",
    "Output: True\n",
    "Explanation:\n",
    "In the above grid, the diagonals are:\n",
    "\"[9]\", \"[5, 5]\", \"[1, 1, 1]\", \"[2, 2, 2]\", \"[3, 3]\", \"[4]\".\n",
    "In each diagonal all elements are the same, so the answer is True.\n",
    "\n",
    "Example 2:\n",
    "\n",
    "Input:\n",
    "matrix = [\n",
    "  [1,2],\n",
    "  [2,2]\n",
    "]\n",
    "Output: False\n",
    "Explanation:\n",
    "The diagonal \"[1, 2]\" has different elements.\n",
    "\n",
    "Note:\n",
    "\n",
    "matrix will be a 2D array of integers.\n",
    "matrix will have a number of rows and columns in range [1, 20].\n",
    "matrix[i][j] will be integers in range [0, 99].\n",
    "\n",
    "Follow up:\n",
    "\n",
    "What if the matrix is stored on disk, and the memory is limited such that you can only load at most one row of the matrix into the memory at once?\n",
    "What if the matrix is so large that you can only load up a partial row into the memory at once?"
   ]
  },
  {
   "cell_type": "code",
   "execution_count": null,
   "metadata": {},
   "outputs": [],
   "source": [
    "# class Solution:\n",
    "#     def isToeplitzMatrix(self, matrix: List[List[int]]) -> bool:\n",
    "        "
   ]
  },
  {
   "cell_type": "code",
   "execution_count": 41,
   "metadata": {},
   "outputs": [],
   "source": [
    "class Solution:\n",
    "    def isToeplitzMatrix(self, matrix):\n",
    "        M = len(matrix)\n",
    "        N = len(matrix[0])\n",
    "        for i in range(M):\n",
    "            vec = [matrix[M-i+j-1][j] for j in range(min((i+1),N))]\n",
    "            if len(set(vec))>1:\n",
    "                return False\n",
    "            else:\n",
    "                pass\n",
    "        for i in range(1,N):\n",
    "            vec = [matrix[j][i+j] for j in range(min((N-i),M))]\n",
    "            if len(set(vec))>1:\n",
    "                return False\n",
    "            else:\n",
    "                pass\n",
    "        return True\n",
    "    "
   ]
  },
  {
   "cell_type": "code",
   "execution_count": 42,
   "metadata": {},
   "outputs": [
    {
     "data": {
      "text/plain": [
       "True"
      ]
     },
     "execution_count": 42,
     "metadata": {},
     "output_type": "execute_result"
    }
   ],
   "source": [
    "x = Solution()\n",
    "x.isToeplitzMatrix([[1,2,3,4], [5,1,2,3], [9,5,1,2]])"
   ]
  },
  {
   "cell_type": "code",
   "execution_count": 85,
   "metadata": {},
   "outputs": [],
   "source": [
    "class Solution:\n",
    "    def isToeplitzMatrix_low_memory(self, matrix):\n",
    "        M = len(matrix)\n",
    "        N = len(matrix[0])\n",
    "        for i in range(M-1):\n",
    "            tmp = matrix[i][0]\n",
    "            for j in range(1, min(M-i,N)):\n",
    "                check = matrix[i+j][j]\n",
    "                if check!=tmp:\n",
    "                    return False\n",
    "        for j in range(1,N-1):\n",
    "            tmp = matrix[0][j]\n",
    "            for i in range(1,min(N-j,M)):\n",
    "                check = matrix[i][j+i]\n",
    "                if check!=tmp:\n",
    "                    return False\n",
    "        return True\n",
    "    "
   ]
  },
  {
   "cell_type": "code",
   "execution_count": 86,
   "metadata": {},
   "outputs": [
    {
     "data": {
      "text/plain": [
       "False"
      ]
     },
     "execution_count": 86,
     "metadata": {},
     "output_type": "execute_result"
    }
   ],
   "source": [
    "x = Solution()\n",
    "x.isToeplitzMatrix_low_memory([[36,59,71,15,26,82,87],[56,36,59,71,15,26,82],[15,0,36,59,71,15,26]])"
   ]
  },
  {
   "cell_type": "code",
   "execution_count": null,
   "metadata": {},
   "outputs": [],
   "source": []
  }
 ],
 "metadata": {
  "kernelspec": {
   "display_name": "yc_test",
   "language": "python",
   "name": "yc_test"
  },
  "language_info": {
   "codemirror_mode": {
    "name": "ipython",
    "version": 3
   },
   "file_extension": ".py",
   "mimetype": "text/x-python",
   "name": "python",
   "nbconvert_exporter": "python",
   "pygments_lexer": "ipython3",
   "version": "3.6.6"
  }
 },
 "nbformat": 4,
 "nbformat_minor": 2
}
