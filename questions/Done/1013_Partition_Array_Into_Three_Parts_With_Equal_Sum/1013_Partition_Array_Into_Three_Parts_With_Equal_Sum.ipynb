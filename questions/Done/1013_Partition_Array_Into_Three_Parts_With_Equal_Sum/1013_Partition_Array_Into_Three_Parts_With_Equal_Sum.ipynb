{
 "cells": [
  {
   "cell_type": "code",
   "execution_count": 1,
   "metadata": {},
   "outputs": [],
   "source": [
    "import numpy as np\n",
    "import random"
   ]
  },
  {
   "cell_type": "markdown",
   "metadata": {},
   "source": [
    "Given an array A of integers, return true if and only if we can partition the array into three non-empty parts with equal sums.\n",
    "\n",
    "Formally, we can partition the array if we can find indexes i+1 < j with (A[0] + A[1] + ... + A[i] == A[i+1] + A[i+2] + ... + A[j-1] == A[j] + A[j-1] + ... + A[A.length - 1])\n",
    "\n",
    " \n",
    "\n",
    "Example 1:\n",
    "\n",
    "Input: [0,2,1,-6,6,-7,9,1,2,0,1]\n",
    "Output: true\n",
    "Explanation: 0 + 2 + 1 = -6 + 6 - 7 + 9 + 1 = 2 + 0 + 1\n",
    "    \n",
    "Example 2:\n",
    "\n",
    "Input: [0,2,1,-6,6,7,9,-1,2,0,1]\n",
    "Output: false\n",
    "    \n",
    "Example 3:\n",
    "\n",
    "Input: [3,3,6,5,-2,2,5,1,-9,4]\n",
    "Output: true\n",
    "Explanation: 3 + 3 = 6 = 5 - 2 + 2 + 5 + 1 - 9 + 4\n",
    " \n",
    "\n",
    "Note:\n",
    "\n",
    "3 <= A.length <= 50000\n",
    "-10000 <= A[i] <= 10000"
   ]
  },
  {
   "cell_type": "code",
   "execution_count": null,
   "metadata": {},
   "outputs": [],
   "source": [
    "# class Solution:\n",
    "#     def canThreePartsEqualSum(self, A: List[int]) -> bool:"
   ]
  },
  {
   "cell_type": "code",
   "execution_count": 20,
   "metadata": {},
   "outputs": [],
   "source": [
    "import random\n",
    "class Solution:\n",
    "    def canThreePartsEqualSum(self, A):\n",
    "        random.shuffle(A)\n",
    "        sum_A = sum(A)\n",
    "        if sum_A%3!=0:\n",
    "            return False\n",
    "        else:\n",
    "#             return True\n",
    "            target = sum_A//3\n",
    "            S = 0\n",
    "            count = 0\n",
    "            for i in A:\n",
    "                S+=i\n",
    "                if S==target:\n",
    "                    count+=1\n",
    "                    S = 0\n",
    "            if count == 3:\n",
    "                return True\n",
    "            else:\n",
    "                return False"
   ]
  }
 ],
 "metadata": {
  "kernelspec": {
   "display_name": "yc_test",
   "language": "python",
   "name": "yc_test"
  },
  "language_info": {
   "codemirror_mode": {
    "name": "ipython",
    "version": 3
   },
   "file_extension": ".py",
   "mimetype": "text/x-python",
   "name": "python",
   "nbconvert_exporter": "python",
   "pygments_lexer": "ipython3",
   "version": "3.6.6"
  }
 },
 "nbformat": 4,
 "nbformat_minor": 2
}
