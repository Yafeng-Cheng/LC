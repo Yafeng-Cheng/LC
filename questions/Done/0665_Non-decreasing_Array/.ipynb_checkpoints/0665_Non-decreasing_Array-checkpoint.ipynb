{
 "cells": [
  {
   "cell_type": "markdown",
   "metadata": {},
   "source": [
    "Given an array with n integers, your task is to check if it could become non-decreasing by modifying at most 1 element.\n",
    "\n",
    "We define an array is non-decreasing if array[i] <= array[i + 1] holds for every i (1 <= i < n).\n",
    "\n",
    "Example 1:\n",
    "Input: [4,2,3]\n",
    "Output: True\n",
    "Explanation: You could modify the first 4 to 1 to get a non-decreasing array.\n",
    "\n",
    "Example 2:\n",
    "Input: [4,2,1]\n",
    "Output: False\n",
    "Explanation: You can't get a non-decreasing array by modify at most one element.\n",
    "Note: The n belongs to [1, 10,000]."
   ]
  },
  {
   "cell_type": "code",
   "execution_count": null,
   "metadata": {},
   "outputs": [],
   "source": [
    "# class Solution:\n",
    "#     def checkPossibility(self, nums: List[int]) -> bool:\n",
    "        "
   ]
  },
  {
   "cell_type": "code",
   "execution_count": 22,
   "metadata": {},
   "outputs": [],
   "source": [
    "class Solution:\n",
    "    def checkPossibility(self, nums):\n",
    "        n = len(nums)\n",
    "        if all([nums[i+1]-nums[i]>=0 for i in range(n-1)]):\n",
    "            return True\n",
    "        else:\n",
    "            pass\n",
    "        nums_ = nums.copy()\n",
    "        for i in range(n-1):\n",
    "            if nums[i]>nums[i+1]:\n",
    "                nums[i+1] = nums[i]\n",
    "                nums_[i] = nums_[i+1]\n",
    "                break\n",
    "        return (all([nums[i+1]-nums[i]>=0 for i in range(n-1)]))|(all([nums_[i+1]-nums_[i]>=0 for i in range(n-1)]))\n"
   ]
  },
  {
   "cell_type": "code",
   "execution_count": 23,
   "metadata": {},
   "outputs": [],
   "source": [
    "nums = [2,3,3,2,4]"
   ]
  },
  {
   "cell_type": "code",
   "execution_count": 24,
   "metadata": {},
   "outputs": [
    {
     "data": {
      "text/plain": [
       "True"
      ]
     },
     "execution_count": 24,
     "metadata": {},
     "output_type": "execute_result"
    }
   ],
   "source": [
    "x = Solution()\n",
    "x.checkPossibility(nums)"
   ]
  },
  {
   "cell_type": "code",
   "execution_count": null,
   "metadata": {},
   "outputs": [],
   "source": []
  }
 ],
 "metadata": {
  "kernelspec": {
   "display_name": "yc_test",
   "language": "python",
   "name": "yc_test"
  },
  "language_info": {
   "codemirror_mode": {
    "name": "ipython",
    "version": 3
   },
   "file_extension": ".py",
   "mimetype": "text/x-python",
   "name": "python",
   "nbconvert_exporter": "python",
   "pygments_lexer": "ipython3",
   "version": "3.6.6"
  }
 },
 "nbformat": 4,
 "nbformat_minor": 2
}
