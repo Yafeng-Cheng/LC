{
 "cells": [
  {
   "cell_type": "code",
   "execution_count": 1,
   "metadata": {},
   "outputs": [],
   "source": [
    "import numpy as np"
   ]
  },
  {
   "cell_type": "markdown",
   "metadata": {},
   "source": [
    "We have an array A of integers, and an array queries of queries.\n",
    "\n",
    "For the i-th query val = queries[i][0], index = queries[i][1], we add val to A[index].  Then, the answer to the i-th query is the sum of the even values of A.\n",
    "\n",
    "(Here, the given index = queries[i][1] is a 0-based index, and each query permanently modifies the array A.)\n",
    "\n",
    "Return the answer to all queries.  Your answer array should have answer[i] as the answer to the i-th query.\n",
    "\n",
    " \n",
    "\n",
    "Example 1:\n",
    "\n",
    "Input: A = [1,2,3,4], queries = [[1,0],[-3,1],[-4,0],[2,3]]\n",
    "Output: [8,6,2,4]\n",
    "Explanation: \n",
    "At the beginning, the array is [1,2,3,4].\n",
    "After adding 1 to A[0], the array is [2,2,3,4], and the sum of even values is 2 + 2 + 4 = 8.\n",
    "After adding -3 to A[1], the array is [2,-1,3,4], and the sum of even values is 2 + 4 = 6.\n",
    "After adding -4 to A[0], the array is [-2,-1,3,4], and the sum of even values is -2 + 4 = 2.\n",
    "After adding 2 to A[3], the array is [-2,-1,3,6], and the sum of even values is -2 + 6 = 4.\n",
    " \n",
    "\n",
    "Note:\n",
    "\n",
    "1 <= A.length <= 10000\n",
    "-10000 <= A[i] <= 10000\n",
    "1 <= queries.length <= 10000\n",
    "-10000 <= queries[i][0] <= 10000\n",
    "0 <= queries[i][1] < A.length"
   ]
  },
  {
   "cell_type": "code",
   "execution_count": null,
   "metadata": {},
   "outputs": [],
   "source": [
    "# class Solution:\n",
    "#     def sumEvenAfterQueries(self, A: List[int], queries: List[List[int]]) -> List[int]:\n",
    "        "
   ]
  },
  {
   "cell_type": "code",
   "execution_count": null,
   "metadata": {},
   "outputs": [],
   "source": [
    "class Solution:\n",
    "    def sumEvenAfterQueries(self, A, queries):\n",
    "        out = []\n",
    "        S = sum([i for i in A if i%2==0])\n",
    "        for val, idx in queries:\n",
    "            if A[idx]%2==0:\n",
    "                S -= A[idx]\n",
    "            A[idx] = A[idx]+val\n",
    "            if A[idx]%2==0:\n",
    "                S+=A[idx]\n",
    "            out.append(S)\n",
    "        return out"
   ]
  },
  {
   "cell_type": "code",
   "execution_count": 4,
   "metadata": {},
   "outputs": [
    {
     "data": {
      "text/plain": [
       "[8, 6, 2, 4]"
      ]
     },
     "execution_count": 4,
     "metadata": {},
     "output_type": "execute_result"
    }
   ],
   "source": [
    "out"
   ]
  }
 ],
 "metadata": {
  "kernelspec": {
   "display_name": "yc_test",
   "language": "python",
   "name": "yc_test"
  },
  "language_info": {
   "codemirror_mode": {
    "name": "ipython",
    "version": 3
   },
   "file_extension": ".py",
   "mimetype": "text/x-python",
   "name": "python",
   "nbconvert_exporter": "python",
   "pygments_lexer": "ipython3",
   "version": "3.6.6"
  }
 },
 "nbformat": 4,
 "nbformat_minor": 2
}
