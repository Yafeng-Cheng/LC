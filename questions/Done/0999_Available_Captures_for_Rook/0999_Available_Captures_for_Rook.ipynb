{
 "cells": [
  {
   "cell_type": "code",
   "execution_count": 1,
   "metadata": {},
   "outputs": [],
   "source": [
    "import numpy as np"
   ]
  },
  {
   "cell_type": "markdown",
   "metadata": {},
   "source": [
    "On an 8 x 8 chessboard, there is one white rook.  There also may be empty squares, white bishops, and black pawns.  These are given as characters 'R', '.', 'B', and 'p' respectively. Uppercase characters represent white pieces, and lowercase characters represent black pieces.\n",
    "\n",
    "The rook moves as in the rules of Chess: it chooses one of four cardinal directions (north, east, west, and south), then moves in that direction until it chooses to stop, reaches the edge of the board, or captures an opposite colored pawn by moving to the same square it occupies.  Also, rooks cannot move into the same square as other friendly bishops.\n",
    "\n",
    "Return the number of pawns the rook can capture in one move.\n",
    "\n",
    "Example 1:\n",
    "    \n",
    "Input: [[\".\",\".\",\".\",\".\",\".\",\".\",\".\",\".\"],[\".\",\".\",\".\",\"p\",\".\",\".\",\".\",\".\"],[\".\",\".\",\".\",\"R\",\".\",\".\",\".\",\"p\"],[\".\",\".\",\".\",\".\",\".\",\".\",\".\",\".\"],[\".\",\".\",\".\",\".\",\".\",\".\",\".\",\".\"],[\".\",\".\",\".\",\"p\",\".\",\".\",\".\",\".\"],[\".\",\".\",\".\",\".\",\".\",\".\",\".\",\".\"],[\".\",\".\",\".\",\".\",\".\",\".\",\".\",\".\"]]\n",
    "Output: 3\n",
    "Explanation: \n",
    "In this example the rook is able to capture all the pawns.\n",
    "\n",
    "Example 2:\n",
    "Input: [[\".\",\".\",\".\",\".\",\".\",\".\",\".\",\".\"],[\".\",\"p\",\"p\",\"p\",\"p\",\"p\",\".\",\".\"],[\".\",\"p\",\"p\",\"B\",\"p\",\"p\",\".\",\".\"],[\".\",\"p\",\"B\",\"R\",\"B\",\"p\",\".\",\".\"],[\".\",\"p\",\"p\",\"B\",\"p\",\"p\",\".\",\".\"],[\".\",\"p\",\"p\",\"p\",\"p\",\"p\",\".\",\".\"],[\".\",\".\",\".\",\".\",\".\",\".\",\".\",\".\"],[\".\",\".\",\".\",\".\",\".\",\".\",\".\",\".\"]]\n",
    "Output: 0\n",
    "Explanation: \n",
    "Bishops are blocking the rook to capture any pawn.\n",
    "\n",
    "Example 3:\n",
    "Input: [[\".\",\".\",\".\",\".\",\".\",\".\",\".\",\".\"],[\".\",\".\",\".\",\"p\",\".\",\".\",\".\",\".\"],[\".\",\".\",\".\",\"p\",\".\",\".\",\".\",\".\"],[\"p\",\"p\",\".\",\"R\",\".\",\"p\",\"B\",\".\"],[\".\",\".\",\".\",\".\",\".\",\".\",\".\",\".\"],[\".\",\".\",\".\",\"B\",\".\",\".\",\".\",\".\"],[\".\",\".\",\".\",\"p\",\".\",\".\",\".\",\".\"],[\".\",\".\",\".\",\".\",\".\",\".\",\".\",\".\"]]\n",
    "Output: 3\n",
    "Explanation: \n",
    "The rook can capture the pawns at positions b5, d6 and f5.\n",
    " \n",
    "\n",
    "Note:\n",
    "\n",
    "board.length == board[i].length == 8\n",
    "board[i][j] is either 'R', '.', 'B', or 'p'\n",
    "There is exactly one cell with board[i][j] == 'R'\n"
   ]
  },
  {
   "cell_type": "code",
   "execution_count": null,
   "metadata": {},
   "outputs": [],
   "source": [
    "# class Solution:\n",
    "#     def numRookCaptures(self, board: List[List[str]]) -> int:\n",
    "        "
   ]
  },
  {
   "cell_type": "code",
   "execution_count": 29,
   "metadata": {},
   "outputs": [],
   "source": [
    "class Solution:\n",
    "    def numRookCaptures(self, board):\n",
    "        len_x = len(x)\n",
    "        wid_x = len(x[0])\n",
    "        y_R = [i for i in range(len_x) if 'R' in x[i]][0]\n",
    "        x_R = [i for i in range(wid_x) if x[y_R][i]=='R'][0]\n",
    "        lr_R = ''.join(x[y_R])\n",
    "        ud_R = ''.join([i[x_R] for i in x])\n",
    "        patterns = ['p'+''.join(['.']*i)+'R' for i in range(7)]\n",
    "        patterns = patterns+['R'+''.join(['.']*i)+'p' for i in range(7)]\n",
    "        return sum([1 for i in patterns if i in lr_R]+[1 for i in patterns if i in ud_R])"
   ]
  },
  {
   "cell_type": "code",
   "execution_count": 2,
   "metadata": {},
   "outputs": [],
   "source": [
    "x = [[\".\",\".\",\".\",\".\",\".\",\".\",\".\",\".\"],\n",
    "     [\".\",\".\",\".\",\"p\",\".\",\".\",\".\",\".\"],\n",
    "     [\".\",\".\",\".\",\"p\",\".\",\".\",\".\",\".\"],\n",
    "     [\"p\",\"p\",\".\",\"R\",\".\",\"p\",\"B\",\".\"],\n",
    "     [\".\",\".\",\".\",\".\",\".\",\".\",\".\",\".\"],\n",
    "     [\".\",\".\",\".\",\"B\",\".\",\".\",\".\",\".\"],\n",
    "     [\".\",\".\",\".\",\"p\",\".\",\".\",\".\",\".\"],\n",
    "     [\".\",\".\",\".\",\".\",\".\",\".\",\".\",\".\"]]"
   ]
  },
  {
   "cell_type": "code",
   "execution_count": 30,
   "metadata": {},
   "outputs": [],
   "source": [
    "A = Solution()"
   ]
  },
  {
   "cell_type": "code",
   "execution_count": 31,
   "metadata": {},
   "outputs": [
    {
     "data": {
      "text/plain": [
       "3"
      ]
     },
     "execution_count": 31,
     "metadata": {},
     "output_type": "execute_result"
    }
   ],
   "source": [
    "A.numRookCaptures(x)"
   ]
  },
  {
   "cell_type": "code",
   "execution_count": 28,
   "metadata": {},
   "outputs": [
    {
     "data": {
      "text/plain": [
       "3"
      ]
     },
     "execution_count": 28,
     "metadata": {},
     "output_type": "execute_result"
    }
   ],
   "source": [
    "len_x = len(x)\n",
    "wid_x = len(x[0])\n",
    "y_R = [i for i in range(len_x) if 'R' in x[i]][0]\n",
    "x_R = [i for i in range(wid_x) if x[y_R][i]=='R'][0]\n",
    "lr_R = ''.join(x[y_R])\n",
    "ud_R = ''.join([i[x_R] for i in x])\n",
    "patterns = ['p'+''.join(['.']*i)+'R' for i in range(7)]\n",
    "patterns = patterns+['R'+''.join(['.']*i)+'p' for i in range(7)]\n",
    "sum([1 for i in patterns if i in lr_R]+[1 for i in patterns if i in ud_R])"
   ]
  }
 ],
 "metadata": {
  "kernelspec": {
   "display_name": "yc_test",
   "language": "python",
   "name": "yc_test"
  },
  "language_info": {
   "codemirror_mode": {
    "name": "ipython",
    "version": 3
   },
   "file_extension": ".py",
   "mimetype": "text/x-python",
   "name": "python",
   "nbconvert_exporter": "python",
   "pygments_lexer": "ipython3",
   "version": "3.6.6"
  }
 },
 "nbformat": 4,
 "nbformat_minor": 2
}
